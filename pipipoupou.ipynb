{
 "cells": [
  {
   "metadata": {
    "ExecuteTime": {
     "end_time": "2025-09-12T15:19:03.097936Z",
     "start_time": "2025-09-12T15:19:01.404077Z"
    }
   },
   "cell_type": "code",
   "source": [
    "import os\n",
    "import cartopy.crs as ccrs\n",
    "import sys\n",
    "import glob\n",
    "import numpy as np\n",
    "import datetime as dt\n",
    "import matplotlib.pyplot as plt\n",
    "import xarray as xr\n",
    "import datetime\n",
    "from pathlib import Path"
   ],
   "id": "fbc121e30a2defb3",
   "outputs": [],
   "execution_count": 1
  },
  {
   "metadata": {
    "ExecuteTime": {
     "end_time": "2025-09-12T15:19:33.607114Z",
     "start_time": "2025-09-12T15:19:33.602136Z"
    }
   },
   "cell_type": "code",
   "source": "path_file= Path(r\"C:\\Users\\vazqu\\OneDrive - UQAM\\UQAM\\5e session\\Laboratoire3\\imerg_pr_201911_3h.nc4\")",
   "id": "37baeef07bc16d70",
   "outputs": [],
   "execution_count": 2
  },
  {
   "metadata": {
    "ExecuteTime": {
     "end_time": "2025-09-12T15:46:22.059504Z",
     "start_time": "2025-09-12T15:46:22.026993Z"
    }
   },
   "cell_type": "code",
   "source": [
    "\n",
    "print('Reading file: ',path_file)\n",
    "ds_i = xr.open_dataset(path_file,engine=\"netcdf4\")\n",
    "print('Reading file: DONE')\n",
    "precipitation = ds_i['precipitationCal']\n",
    "lons = ds_i['lon']\n",
    "lats = ds_i['lat']\n",
    "temps = ds_i['time']\n",
    "\n",
    "print(\"poupou\")\n",
    "print(\"j'ai besoin d'aller chier\")\n",
    "print(\"j'ai besoin d'aller chier\")"
   ],
   "id": "8091fcdb46d80183",
   "outputs": [
    {
     "name": "stdout",
     "output_type": "stream",
     "text": [
      "Reading file:  C:\\Users\\vazqu\\OneDrive - UQAM\\UQAM\\5e session\\Laboratoire3\\imerg_pr_201911_3h.nc4\n"
     ]
    },
    {
     "ename": "ValueError",
     "evalue": "unrecognized engine 'netcdf4' must be one of your download engines: ['store']. To install additional dependencies, see:\nhttps://docs.xarray.dev/en/stable/user-guide/io.html \nhttps://docs.xarray.dev/en/stable/getting-started-guide/installing.html",
     "output_type": "error",
     "traceback": [
      "\u001B[1;31m---------------------------------------------------------------------------\u001B[0m",
      "\u001B[1;31mValueError\u001B[0m                                Traceback (most recent call last)",
      "Cell \u001B[1;32mIn[7], line 2\u001B[0m\n\u001B[0;32m      1\u001B[0m \u001B[38;5;28mprint\u001B[39m(\u001B[38;5;124m'\u001B[39m\u001B[38;5;124mReading file: \u001B[39m\u001B[38;5;124m'\u001B[39m,path_file)\n\u001B[1;32m----> 2\u001B[0m ds_i \u001B[38;5;241m=\u001B[39m xr\u001B[38;5;241m.\u001B[39mopen_dataset(path_file,engine\u001B[38;5;241m=\u001B[39m\u001B[38;5;124m\"\u001B[39m\u001B[38;5;124mnetcdf4\u001B[39m\u001B[38;5;124m\"\u001B[39m)\n\u001B[0;32m      3\u001B[0m \u001B[38;5;28mprint\u001B[39m(\u001B[38;5;124m'\u001B[39m\u001B[38;5;124mReading file: DONE\u001B[39m\u001B[38;5;124m'\u001B[39m)\n\u001B[0;32m      4\u001B[0m precipitation \u001B[38;5;241m=\u001B[39m ds_i[\u001B[38;5;124m'\u001B[39m\u001B[38;5;124mprecipitationCal\u001B[39m\u001B[38;5;124m'\u001B[39m]\n",
      "File \u001B[1;32m~\\miniconda3\\Lib\\site-packages\\xarray\\backends\\api.py:673\u001B[0m, in \u001B[0;36mopen_dataset\u001B[1;34m(filename_or_obj, engine, chunks, cache, decode_cf, mask_and_scale, decode_times, decode_timedelta, use_cftime, concat_characters, decode_coords, drop_variables, inline_array, chunked_array_type, from_array_kwargs, backend_kwargs, **kwargs)\u001B[0m\n\u001B[0;32m    670\u001B[0m \u001B[38;5;28;01mif\u001B[39;00m from_array_kwargs \u001B[38;5;129;01mis\u001B[39;00m \u001B[38;5;28;01mNone\u001B[39;00m:\n\u001B[0;32m    671\u001B[0m     from_array_kwargs \u001B[38;5;241m=\u001B[39m {}\n\u001B[1;32m--> 673\u001B[0m backend \u001B[38;5;241m=\u001B[39m plugins\u001B[38;5;241m.\u001B[39mget_backend(engine)\n\u001B[0;32m    675\u001B[0m decoders \u001B[38;5;241m=\u001B[39m _resolve_decoders_kwargs(\n\u001B[0;32m    676\u001B[0m     decode_cf,\n\u001B[0;32m    677\u001B[0m     open_backend_dataset_parameters\u001B[38;5;241m=\u001B[39mbackend\u001B[38;5;241m.\u001B[39mopen_dataset_parameters,\n\u001B[1;32m   (...)\u001B[0m\n\u001B[0;32m    683\u001B[0m     decode_coords\u001B[38;5;241m=\u001B[39mdecode_coords,\n\u001B[0;32m    684\u001B[0m )\n\u001B[0;32m    686\u001B[0m overwrite_encoded_chunks \u001B[38;5;241m=\u001B[39m kwargs\u001B[38;5;241m.\u001B[39mpop(\u001B[38;5;124m\"\u001B[39m\u001B[38;5;124moverwrite_encoded_chunks\u001B[39m\u001B[38;5;124m\"\u001B[39m, \u001B[38;5;28;01mNone\u001B[39;00m)\n",
      "File \u001B[1;32m~\\miniconda3\\Lib\\site-packages\\xarray\\backends\\plugins.py:202\u001B[0m, in \u001B[0;36mget_backend\u001B[1;34m(engine)\u001B[0m\n\u001B[0;32m    200\u001B[0m     engines \u001B[38;5;241m=\u001B[39m list_engines()\n\u001B[0;32m    201\u001B[0m     \u001B[38;5;28;01mif\u001B[39;00m engine \u001B[38;5;129;01mnot\u001B[39;00m \u001B[38;5;129;01min\u001B[39;00m engines:\n\u001B[1;32m--> 202\u001B[0m         \u001B[38;5;28;01mraise\u001B[39;00m \u001B[38;5;167;01mValueError\u001B[39;00m(\n\u001B[0;32m    203\u001B[0m             \u001B[38;5;124mf\u001B[39m\u001B[38;5;124m\"\u001B[39m\u001B[38;5;124munrecognized engine \u001B[39m\u001B[38;5;124m'\u001B[39m\u001B[38;5;132;01m{\u001B[39;00mengine\u001B[38;5;132;01m}\u001B[39;00m\u001B[38;5;124m'\u001B[39m\u001B[38;5;124m must be one of your download engines: \u001B[39m\u001B[38;5;132;01m{\u001B[39;00m\u001B[38;5;28mlist\u001B[39m(engines)\u001B[38;5;132;01m}\u001B[39;00m\u001B[38;5;124m. \u001B[39m\u001B[38;5;124m\"\u001B[39m\n\u001B[0;32m    204\u001B[0m             \u001B[38;5;124m\"\u001B[39m\u001B[38;5;124mTo install additional dependencies, see:\u001B[39m\u001B[38;5;130;01m\\n\u001B[39;00m\u001B[38;5;124m\"\u001B[39m\n\u001B[0;32m    205\u001B[0m             \u001B[38;5;124m\"\u001B[39m\u001B[38;5;124mhttps://docs.xarray.dev/en/stable/user-guide/io.html \u001B[39m\u001B[38;5;130;01m\\n\u001B[39;00m\u001B[38;5;124m\"\u001B[39m\n\u001B[0;32m    206\u001B[0m             \u001B[38;5;124m\"\u001B[39m\u001B[38;5;124mhttps://docs.xarray.dev/en/stable/getting-started-guide/installing.html\u001B[39m\u001B[38;5;124m\"\u001B[39m\n\u001B[0;32m    207\u001B[0m         )\n\u001B[0;32m    208\u001B[0m     backend \u001B[38;5;241m=\u001B[39m engines[engine]\n\u001B[0;32m    209\u001B[0m \u001B[38;5;28;01melif\u001B[39;00m \u001B[38;5;28missubclass\u001B[39m(engine, BackendEntrypoint):\n",
      "\u001B[1;31mValueError\u001B[0m: unrecognized engine 'netcdf4' must be one of your download engines: ['store']. To install additional dependencies, see:\nhttps://docs.xarray.dev/en/stable/user-guide/io.html \nhttps://docs.xarray.dev/en/stable/getting-started-guide/installing.html"
     ]
    }
   ],
   "execution_count": 7
  },
  {
   "metadata": {
    "ExecuteTime": {
     "end_time": "2025-09-11T20:35:07.198648Z",
     "start_time": "2025-09-11T20:35:07.192391Z"
    }
   },
   "cell_type": "code",
   "source": [
    "#Coordonne des villes souhaités\n",
    "Kuala_cor= {\"lat\":3.1,\"lon\":101.6}\n",
    "Montreal_cor={\"lat\":45.5,\"lon\":-73.5}\n",
    "ocean_cor={\"lat\":5.0,\"lon\":106.0}\n",
    "sevile_cor={\"lat\":37.4,\"lon\":-6}"
   ],
   "id": "aba0a491180ec1b9",
   "outputs": [],
   "execution_count": 9
  },
  {
   "metadata": {
    "ExecuteTime": {
     "end_time": "2025-09-11T21:12:15.279015Z",
     "start_time": "2025-09-11T21:11:04.155666Z"
    }
   },
   "cell_type": "code",
   "source": [
    "\n",
    "#Prendre les data sets des coordonne les plus proches\n",
    "kuala_ds = ds_i.sel(Kuala_cor,method='nearest')\n",
    "mtl_ds = ds_i.sel(Montreal_cor,method='nearest')\n",
    "ocean_ds = ds_i.sel(ocean_cor,method='nearest')\n",
    "seville_ds = ds_i.sel(sevile_cor,method='nearest')\n",
    "liste_ville=[kuala_ds,mtl_ds,ocean_ds,seville_ds]\n",
    "liste_nom_ville=[\"Kuala\",\"MTL\",\"Ocean\",\"Seville\"]\n",
    "\n",
    "\n",
    "kuala_pand=kuala_ds.to_dataframe()\n",
    "mtl_pand=mtl_ds.to_dataframe()\n",
    "ocean_pand=ocean_ds.to_dataframe()\n",
    "seville_pand=seville_ds.to_dataframe()"
   ],
   "id": "432dd8501155d75c",
   "outputs": [],
   "execution_count": 23
  },
  {
   "metadata": {
    "ExecuteTime": {
     "end_time": "2025-09-12T14:08:12.611525Z",
     "start_time": "2025-09-12T14:08:12.224031Z"
    }
   },
   "cell_type": "code",
   "source": "print(kuala_pand['precipitation'].sum())",
   "id": "f5dab782d8c8763c",
   "outputs": [
    {
     "ename": "NameError",
     "evalue": "name 'kuala_pand' is not defined",
     "output_type": "error",
     "traceback": [
      "\u001B[1;31m---------------------------------------------------------------------------\u001B[0m",
      "\u001B[1;31mNameError\u001B[0m                                 Traceback (most recent call last)",
      "Cell \u001B[1;32mIn[1], line 1\u001B[0m\n\u001B[1;32m----> 1\u001B[0m \u001B[38;5;28mprint\u001B[39m(kuala_pand[\u001B[38;5;124m'\u001B[39m\u001B[38;5;124mprecipitation\u001B[39m\u001B[38;5;124m'\u001B[39m]\u001B[38;5;241m.\u001B[39msum())\n",
      "\u001B[1;31mNameError\u001B[0m: name 'kuala_pand' is not defined"
     ]
    }
   ],
   "execution_count": 1
  },
  {
   "metadata": {
    "ExecuteTime": {
     "end_time": "2025-09-11T20:55:17.062167Z",
     "start_time": "2025-09-11T20:54:37.853775Z"
    }
   },
   "cell_type": "code",
   "source": [
    "precip_total_villes=[]\n",
    "for ville in liste_ville:\n",
    "    precip_total=ville['precipitationCal'].sum()\n",
    "    precip_total_villes.append(precip_total)\n",
    "\n",
    "print(precip_total_villes)\n"
   ],
   "id": "432b71c6559f0f09",
   "outputs": [
    {
     "ename": "KeyboardInterrupt",
     "evalue": "",
     "output_type": "error",
     "traceback": [
      "\u001B[1;31m---------------------------------------------------------------------------\u001B[0m",
      "\u001B[1;31mKeyboardInterrupt\u001B[0m                         Traceback (most recent call last)",
      "Cell \u001B[1;32mIn[16], line 3\u001B[0m\n\u001B[0;32m      1\u001B[0m precip_total_villes\u001B[38;5;241m=\u001B[39m[]\n\u001B[0;32m      2\u001B[0m \u001B[38;5;28;01mfor\u001B[39;00m ville \u001B[38;5;129;01min\u001B[39;00m liste_ville:\n\u001B[1;32m----> 3\u001B[0m     precip_total\u001B[38;5;241m=\u001B[39mville[\u001B[38;5;124m'\u001B[39m\u001B[38;5;124mprecipitationCal\u001B[39m\u001B[38;5;124m'\u001B[39m]\u001B[38;5;241m.\u001B[39msum(dim\u001B[38;5;241m=\u001B[39m\u001B[38;5;124m'\u001B[39m\u001B[38;5;124mtime\u001B[39m\u001B[38;5;124m'\u001B[39m)\n\u001B[0;32m      4\u001B[0m     precip_total_villes\u001B[38;5;241m.\u001B[39mappend(precip_total)\n\u001B[0;32m      6\u001B[0m \u001B[38;5;28mprint\u001B[39m(precip_total_villes)\n",
      "File \u001B[1;32m~\\miniconda3\\Lib\\site-packages\\xarray\\core\\_aggregations.py:3175\u001B[0m, in \u001B[0;36mDataArrayAggregations.sum\u001B[1;34m(self, dim, skipna, min_count, keep_attrs, **kwargs)\u001B[0m\n\u001B[0;32m   3087\u001B[0m \u001B[38;5;28;01mdef\u001B[39;00m \u001B[38;5;21msum\u001B[39m(\n\u001B[0;32m   3088\u001B[0m     \u001B[38;5;28mself\u001B[39m,\n\u001B[0;32m   3089\u001B[0m     dim: Dims \u001B[38;5;241m=\u001B[39m \u001B[38;5;28;01mNone\u001B[39;00m,\n\u001B[1;32m   (...)\u001B[0m\n\u001B[0;32m   3094\u001B[0m     \u001B[38;5;241m*\u001B[39m\u001B[38;5;241m*\u001B[39mkwargs: Any,\n\u001B[0;32m   3095\u001B[0m ) \u001B[38;5;241m-\u001B[39m\u001B[38;5;241m>\u001B[39m Self:\n\u001B[0;32m   3096\u001B[0m \u001B[38;5;250m    \u001B[39m\u001B[38;5;124;03m\"\"\"\u001B[39;00m\n\u001B[0;32m   3097\u001B[0m \u001B[38;5;124;03m    Reduce this DataArray's data by applying ``sum`` along some dimension(s).\u001B[39;00m\n\u001B[0;32m   3098\u001B[0m \n\u001B[1;32m   (...)\u001B[0m\n\u001B[0;32m   3173\u001B[0m \u001B[38;5;124;03m    array(8.)\u001B[39;00m\n\u001B[0;32m   3174\u001B[0m \u001B[38;5;124;03m    \"\"\"\u001B[39;00m\n\u001B[1;32m-> 3175\u001B[0m     \u001B[38;5;28;01mreturn\u001B[39;00m \u001B[38;5;28mself\u001B[39m\u001B[38;5;241m.\u001B[39mreduce(\n\u001B[0;32m   3176\u001B[0m         duck_array_ops\u001B[38;5;241m.\u001B[39msum,\n\u001B[0;32m   3177\u001B[0m         dim\u001B[38;5;241m=\u001B[39mdim,\n\u001B[0;32m   3178\u001B[0m         skipna\u001B[38;5;241m=\u001B[39mskipna,\n\u001B[0;32m   3179\u001B[0m         min_count\u001B[38;5;241m=\u001B[39mmin_count,\n\u001B[0;32m   3180\u001B[0m         keep_attrs\u001B[38;5;241m=\u001B[39mkeep_attrs,\n\u001B[0;32m   3181\u001B[0m         \u001B[38;5;241m*\u001B[39m\u001B[38;5;241m*\u001B[39mkwargs,\n\u001B[0;32m   3182\u001B[0m     )\n",
      "File \u001B[1;32m~\\miniconda3\\Lib\\site-packages\\xarray\\core\\dataarray.py:3883\u001B[0m, in \u001B[0;36mDataArray.reduce\u001B[1;34m(self, func, dim, axis, keep_attrs, keepdims, **kwargs)\u001B[0m\n\u001B[0;32m   3839\u001B[0m \u001B[38;5;28;01mdef\u001B[39;00m \u001B[38;5;21mreduce\u001B[39m(\n\u001B[0;32m   3840\u001B[0m     \u001B[38;5;28mself\u001B[39m,\n\u001B[0;32m   3841\u001B[0m     func: Callable[\u001B[38;5;241m.\u001B[39m\u001B[38;5;241m.\u001B[39m\u001B[38;5;241m.\u001B[39m, Any],\n\u001B[1;32m   (...)\u001B[0m\n\u001B[0;32m   3847\u001B[0m     \u001B[38;5;241m*\u001B[39m\u001B[38;5;241m*\u001B[39mkwargs: Any,\n\u001B[0;32m   3848\u001B[0m ) \u001B[38;5;241m-\u001B[39m\u001B[38;5;241m>\u001B[39m Self:\n\u001B[0;32m   3849\u001B[0m \u001B[38;5;250m    \u001B[39m\u001B[38;5;124;03m\"\"\"Reduce this array by applying `func` along some dimension(s).\u001B[39;00m\n\u001B[0;32m   3850\u001B[0m \n\u001B[0;32m   3851\u001B[0m \u001B[38;5;124;03m    Parameters\u001B[39;00m\n\u001B[1;32m   (...)\u001B[0m\n\u001B[0;32m   3880\u001B[0m \u001B[38;5;124;03m        summarized data and the indicated dimension(s) removed.\u001B[39;00m\n\u001B[0;32m   3881\u001B[0m \u001B[38;5;124;03m    \"\"\"\u001B[39;00m\n\u001B[1;32m-> 3883\u001B[0m     var \u001B[38;5;241m=\u001B[39m \u001B[38;5;28mself\u001B[39m\u001B[38;5;241m.\u001B[39mvariable\u001B[38;5;241m.\u001B[39mreduce(func, dim, axis, keep_attrs, keepdims, \u001B[38;5;241m*\u001B[39m\u001B[38;5;241m*\u001B[39mkwargs)\n\u001B[0;32m   3884\u001B[0m     \u001B[38;5;28;01mreturn\u001B[39;00m \u001B[38;5;28mself\u001B[39m\u001B[38;5;241m.\u001B[39m_replace_maybe_drop_dims(var)\n",
      "File \u001B[1;32m~\\miniconda3\\Lib\\site-packages\\xarray\\core\\variable.py:1654\u001B[0m, in \u001B[0;36mVariable.reduce\u001B[1;34m(self, func, dim, axis, keep_attrs, keepdims, **kwargs)\u001B[0m\n\u001B[0;32m   1647\u001B[0m keep_attrs_ \u001B[38;5;241m=\u001B[39m (\n\u001B[0;32m   1648\u001B[0m     _get_keep_attrs(default\u001B[38;5;241m=\u001B[39m\u001B[38;5;28;01mFalse\u001B[39;00m) \u001B[38;5;28;01mif\u001B[39;00m keep_attrs \u001B[38;5;129;01mis\u001B[39;00m \u001B[38;5;28;01mNone\u001B[39;00m \u001B[38;5;28;01melse\u001B[39;00m keep_attrs\n\u001B[0;32m   1649\u001B[0m )\n\u001B[0;32m   1651\u001B[0m \u001B[38;5;66;03m# Note that the call order for Variable.mean is\u001B[39;00m\n\u001B[0;32m   1652\u001B[0m \u001B[38;5;66;03m#    Variable.mean -> NamedArray.mean -> Variable.reduce\u001B[39;00m\n\u001B[0;32m   1653\u001B[0m \u001B[38;5;66;03m#    -> NamedArray.reduce\u001B[39;00m\n\u001B[1;32m-> 1654\u001B[0m result \u001B[38;5;241m=\u001B[39m \u001B[38;5;28msuper\u001B[39m()\u001B[38;5;241m.\u001B[39mreduce(\n\u001B[0;32m   1655\u001B[0m     func\u001B[38;5;241m=\u001B[39mfunc, dim\u001B[38;5;241m=\u001B[39mdim, axis\u001B[38;5;241m=\u001B[39maxis, keepdims\u001B[38;5;241m=\u001B[39mkeepdims, \u001B[38;5;241m*\u001B[39m\u001B[38;5;241m*\u001B[39mkwargs\n\u001B[0;32m   1656\u001B[0m )\n\u001B[0;32m   1658\u001B[0m \u001B[38;5;66;03m# return Variable always to support IndexVariable\u001B[39;00m\n\u001B[0;32m   1659\u001B[0m \u001B[38;5;28;01mreturn\u001B[39;00m Variable(\n\u001B[0;32m   1660\u001B[0m     result\u001B[38;5;241m.\u001B[39mdims, result\u001B[38;5;241m.\u001B[39m_data, attrs\u001B[38;5;241m=\u001B[39mresult\u001B[38;5;241m.\u001B[39m_attrs \u001B[38;5;28;01mif\u001B[39;00m keep_attrs_ \u001B[38;5;28;01melse\u001B[39;00m \u001B[38;5;28;01mNone\u001B[39;00m\n\u001B[0;32m   1661\u001B[0m )\n",
      "File \u001B[1;32m~\\miniconda3\\Lib\\site-packages\\xarray\\namedarray\\core.py:919\u001B[0m, in \u001B[0;36mNamedArray.reduce\u001B[1;34m(self, func, dim, axis, keepdims, **kwargs)\u001B[0m\n\u001B[0;32m    915\u001B[0m     \u001B[38;5;28;01mif\u001B[39;00m \u001B[38;5;28misinstance\u001B[39m(axis, \u001B[38;5;28mtuple\u001B[39m) \u001B[38;5;129;01mand\u001B[39;00m \u001B[38;5;28mlen\u001B[39m(axis) \u001B[38;5;241m==\u001B[39m \u001B[38;5;241m1\u001B[39m:\n\u001B[0;32m    916\u001B[0m         \u001B[38;5;66;03m# unpack axis for the benefit of functions\u001B[39;00m\n\u001B[0;32m    917\u001B[0m         \u001B[38;5;66;03m# like np.argmin which can't handle tuple arguments\u001B[39;00m\n\u001B[0;32m    918\u001B[0m         axis \u001B[38;5;241m=\u001B[39m axis[\u001B[38;5;241m0\u001B[39m]\n\u001B[1;32m--> 919\u001B[0m     data \u001B[38;5;241m=\u001B[39m func(\u001B[38;5;28mself\u001B[39m\u001B[38;5;241m.\u001B[39mdata, axis\u001B[38;5;241m=\u001B[39maxis, \u001B[38;5;241m*\u001B[39m\u001B[38;5;241m*\u001B[39mkwargs)\n\u001B[0;32m    920\u001B[0m \u001B[38;5;28;01melse\u001B[39;00m:\n\u001B[0;32m    921\u001B[0m     data \u001B[38;5;241m=\u001B[39m func(\u001B[38;5;28mself\u001B[39m\u001B[38;5;241m.\u001B[39mdata, \u001B[38;5;241m*\u001B[39m\u001B[38;5;241m*\u001B[39mkwargs)\n",
      "File \u001B[1;32m~\\miniconda3\\Lib\\site-packages\\xarray\\core\\variable.py:416\u001B[0m, in \u001B[0;36mVariable.data\u001B[1;34m(self)\u001B[0m\n\u001B[0;32m    414\u001B[0m     \u001B[38;5;28;01mreturn\u001B[39;00m \u001B[38;5;28mself\u001B[39m\u001B[38;5;241m.\u001B[39m_data\n\u001B[0;32m    415\u001B[0m \u001B[38;5;28;01melif\u001B[39;00m \u001B[38;5;28misinstance\u001B[39m(\u001B[38;5;28mself\u001B[39m\u001B[38;5;241m.\u001B[39m_data, indexing\u001B[38;5;241m.\u001B[39mExplicitlyIndexed):\n\u001B[1;32m--> 416\u001B[0m     \u001B[38;5;28;01mreturn\u001B[39;00m \u001B[38;5;28mself\u001B[39m\u001B[38;5;241m.\u001B[39m_data\u001B[38;5;241m.\u001B[39mget_duck_array()\n\u001B[0;32m    417\u001B[0m \u001B[38;5;28;01melse\u001B[39;00m:\n\u001B[0;32m    418\u001B[0m     \u001B[38;5;28;01mreturn\u001B[39;00m \u001B[38;5;28mself\u001B[39m\u001B[38;5;241m.\u001B[39mvalues\n",
      "File \u001B[1;32m~\\miniconda3\\Lib\\site-packages\\xarray\\core\\indexing.py:836\u001B[0m, in \u001B[0;36mMemoryCachedArray.get_duck_array\u001B[1;34m(self)\u001B[0m\n\u001B[0;32m    835\u001B[0m \u001B[38;5;28;01mdef\u001B[39;00m \u001B[38;5;21mget_duck_array\u001B[39m(\u001B[38;5;28mself\u001B[39m):\n\u001B[1;32m--> 836\u001B[0m     \u001B[38;5;28mself\u001B[39m\u001B[38;5;241m.\u001B[39m_ensure_cached()\n\u001B[0;32m    837\u001B[0m     \u001B[38;5;28;01mreturn\u001B[39;00m \u001B[38;5;28mself\u001B[39m\u001B[38;5;241m.\u001B[39marray\u001B[38;5;241m.\u001B[39mget_duck_array()\n",
      "File \u001B[1;32m~\\miniconda3\\Lib\\site-packages\\xarray\\core\\indexing.py:833\u001B[0m, in \u001B[0;36mMemoryCachedArray._ensure_cached\u001B[1;34m(self)\u001B[0m\n\u001B[0;32m    832\u001B[0m \u001B[38;5;28;01mdef\u001B[39;00m \u001B[38;5;21m_ensure_cached\u001B[39m(\u001B[38;5;28mself\u001B[39m):\n\u001B[1;32m--> 833\u001B[0m     \u001B[38;5;28mself\u001B[39m\u001B[38;5;241m.\u001B[39marray \u001B[38;5;241m=\u001B[39m as_indexable(\u001B[38;5;28mself\u001B[39m\u001B[38;5;241m.\u001B[39marray\u001B[38;5;241m.\u001B[39mget_duck_array())\n",
      "File \u001B[1;32m~\\miniconda3\\Lib\\site-packages\\xarray\\core\\indexing.py:790\u001B[0m, in \u001B[0;36mCopyOnWriteArray.get_duck_array\u001B[1;34m(self)\u001B[0m\n\u001B[0;32m    789\u001B[0m \u001B[38;5;28;01mdef\u001B[39;00m \u001B[38;5;21mget_duck_array\u001B[39m(\u001B[38;5;28mself\u001B[39m):\n\u001B[1;32m--> 790\u001B[0m     \u001B[38;5;28;01mreturn\u001B[39;00m \u001B[38;5;28mself\u001B[39m\u001B[38;5;241m.\u001B[39marray\u001B[38;5;241m.\u001B[39mget_duck_array()\n",
      "File \u001B[1;32m~\\miniconda3\\Lib\\site-packages\\xarray\\core\\indexing.py:660\u001B[0m, in \u001B[0;36mLazilyIndexedArray.get_duck_array\u001B[1;34m(self)\u001B[0m\n\u001B[0;32m    655\u001B[0m \u001B[38;5;66;03m# self.array[self.key] is now a numpy array when\u001B[39;00m\n\u001B[0;32m    656\u001B[0m \u001B[38;5;66;03m# self.array is a BackendArray subclass\u001B[39;00m\n\u001B[0;32m    657\u001B[0m \u001B[38;5;66;03m# and self.key is BasicIndexer((slice(None, None, None),))\u001B[39;00m\n\u001B[0;32m    658\u001B[0m \u001B[38;5;66;03m# so we need the explicit check for ExplicitlyIndexed\u001B[39;00m\n\u001B[0;32m    659\u001B[0m \u001B[38;5;28;01mif\u001B[39;00m \u001B[38;5;28misinstance\u001B[39m(array, ExplicitlyIndexed):\n\u001B[1;32m--> 660\u001B[0m     array \u001B[38;5;241m=\u001B[39m array\u001B[38;5;241m.\u001B[39mget_duck_array()\n\u001B[0;32m    661\u001B[0m \u001B[38;5;28;01mreturn\u001B[39;00m _wrap_numpy_scalars(array)\n",
      "File \u001B[1;32m~\\miniconda3\\Lib\\site-packages\\xarray\\coding\\common.py:76\u001B[0m, in \u001B[0;36m_ElementwiseFunctionArray.get_duck_array\u001B[1;34m(self)\u001B[0m\n\u001B[0;32m     75\u001B[0m \u001B[38;5;28;01mdef\u001B[39;00m \u001B[38;5;21mget_duck_array\u001B[39m(\u001B[38;5;28mself\u001B[39m):\n\u001B[1;32m---> 76\u001B[0m     \u001B[38;5;28;01mreturn\u001B[39;00m \u001B[38;5;28mself\u001B[39m\u001B[38;5;241m.\u001B[39mfunc(\u001B[38;5;28mself\u001B[39m\u001B[38;5;241m.\u001B[39marray\u001B[38;5;241m.\u001B[39mget_duck_array())\n",
      "File \u001B[1;32m~\\miniconda3\\Lib\\site-packages\\xarray\\core\\indexing.py:653\u001B[0m, in \u001B[0;36mLazilyIndexedArray.get_duck_array\u001B[1;34m(self)\u001B[0m\n\u001B[0;32m    649\u001B[0m     array \u001B[38;5;241m=\u001B[39m apply_indexer(\u001B[38;5;28mself\u001B[39m\u001B[38;5;241m.\u001B[39marray, \u001B[38;5;28mself\u001B[39m\u001B[38;5;241m.\u001B[39mkey)\n\u001B[0;32m    650\u001B[0m \u001B[38;5;28;01melse\u001B[39;00m:\n\u001B[0;32m    651\u001B[0m     \u001B[38;5;66;03m# If the array is not an ExplicitlyIndexedNDArrayMixin,\u001B[39;00m\n\u001B[0;32m    652\u001B[0m     \u001B[38;5;66;03m# it may wrap a BackendArray so use its __getitem__\u001B[39;00m\n\u001B[1;32m--> 653\u001B[0m     array \u001B[38;5;241m=\u001B[39m \u001B[38;5;28mself\u001B[39m\u001B[38;5;241m.\u001B[39marray[\u001B[38;5;28mself\u001B[39m\u001B[38;5;241m.\u001B[39mkey]\n\u001B[0;32m    655\u001B[0m \u001B[38;5;66;03m# self.array[self.key] is now a numpy array when\u001B[39;00m\n\u001B[0;32m    656\u001B[0m \u001B[38;5;66;03m# self.array is a BackendArray subclass\u001B[39;00m\n\u001B[0;32m    657\u001B[0m \u001B[38;5;66;03m# and self.key is BasicIndexer((slice(None, None, None),))\u001B[39;00m\n\u001B[0;32m    658\u001B[0m \u001B[38;5;66;03m# so we need the explicit check for ExplicitlyIndexed\u001B[39;00m\n\u001B[0;32m    659\u001B[0m \u001B[38;5;28;01mif\u001B[39;00m \u001B[38;5;28misinstance\u001B[39m(array, ExplicitlyIndexed):\n",
      "File \u001B[1;32m~\\miniconda3\\Lib\\site-packages\\xarray\\backends\\netCDF4_.py:103\u001B[0m, in \u001B[0;36mNetCDF4ArrayWrapper.__getitem__\u001B[1;34m(self, key)\u001B[0m\n\u001B[0;32m    102\u001B[0m \u001B[38;5;28;01mdef\u001B[39;00m \u001B[38;5;21m__getitem__\u001B[39m(\u001B[38;5;28mself\u001B[39m, key):\n\u001B[1;32m--> 103\u001B[0m     \u001B[38;5;28;01mreturn\u001B[39;00m indexing\u001B[38;5;241m.\u001B[39mexplicit_indexing_adapter(\n\u001B[0;32m    104\u001B[0m         key, \u001B[38;5;28mself\u001B[39m\u001B[38;5;241m.\u001B[39mshape, indexing\u001B[38;5;241m.\u001B[39mIndexingSupport\u001B[38;5;241m.\u001B[39mOUTER, \u001B[38;5;28mself\u001B[39m\u001B[38;5;241m.\u001B[39m_getitem\n\u001B[0;32m    105\u001B[0m     )\n",
      "File \u001B[1;32m~\\miniconda3\\Lib\\site-packages\\xarray\\core\\indexing.py:1014\u001B[0m, in \u001B[0;36mexplicit_indexing_adapter\u001B[1;34m(key, shape, indexing_support, raw_indexing_method)\u001B[0m\n\u001B[0;32m    992\u001B[0m \u001B[38;5;250m\u001B[39m\u001B[38;5;124;03m\"\"\"Support explicit indexing by delegating to a raw indexing method.\u001B[39;00m\n\u001B[0;32m    993\u001B[0m \n\u001B[0;32m    994\u001B[0m \u001B[38;5;124;03mOuter and/or vectorized indexers are supported by indexing a second time\u001B[39;00m\n\u001B[1;32m   (...)\u001B[0m\n\u001B[0;32m   1011\u001B[0m \u001B[38;5;124;03mIndexing result, in the form of a duck numpy-array.\u001B[39;00m\n\u001B[0;32m   1012\u001B[0m \u001B[38;5;124;03m\"\"\"\u001B[39;00m\n\u001B[0;32m   1013\u001B[0m raw_key, numpy_indices \u001B[38;5;241m=\u001B[39m decompose_indexer(key, shape, indexing_support)\n\u001B[1;32m-> 1014\u001B[0m result \u001B[38;5;241m=\u001B[39m raw_indexing_method(raw_key\u001B[38;5;241m.\u001B[39mtuple)\n\u001B[0;32m   1015\u001B[0m \u001B[38;5;28;01mif\u001B[39;00m numpy_indices\u001B[38;5;241m.\u001B[39mtuple:\n\u001B[0;32m   1016\u001B[0m     \u001B[38;5;66;03m# index the loaded duck array\u001B[39;00m\n\u001B[0;32m   1017\u001B[0m     indexable \u001B[38;5;241m=\u001B[39m as_indexable(result)\n",
      "File \u001B[1;32m~\\miniconda3\\Lib\\site-packages\\xarray\\backends\\netCDF4_.py:116\u001B[0m, in \u001B[0;36mNetCDF4ArrayWrapper._getitem\u001B[1;34m(self, key)\u001B[0m\n\u001B[0;32m    114\u001B[0m     \u001B[38;5;28;01mwith\u001B[39;00m \u001B[38;5;28mself\u001B[39m\u001B[38;5;241m.\u001B[39mdatastore\u001B[38;5;241m.\u001B[39mlock:\n\u001B[0;32m    115\u001B[0m         original_array \u001B[38;5;241m=\u001B[39m \u001B[38;5;28mself\u001B[39m\u001B[38;5;241m.\u001B[39mget_array(needs_lock\u001B[38;5;241m=\u001B[39m\u001B[38;5;28;01mFalse\u001B[39;00m)\n\u001B[1;32m--> 116\u001B[0m         array \u001B[38;5;241m=\u001B[39m getitem(original_array, key)\n\u001B[0;32m    117\u001B[0m \u001B[38;5;28;01mexcept\u001B[39;00m \u001B[38;5;167;01mIndexError\u001B[39;00m \u001B[38;5;28;01mas\u001B[39;00m err:\n\u001B[0;32m    118\u001B[0m     \u001B[38;5;66;03m# Catch IndexError in netCDF4 and return a more informative\u001B[39;00m\n\u001B[0;32m    119\u001B[0m     \u001B[38;5;66;03m# error message.  This is most often called when an unsorted\u001B[39;00m\n\u001B[0;32m    120\u001B[0m     \u001B[38;5;66;03m# indexer is used before the data is loaded from disk.\u001B[39;00m\n\u001B[0;32m    121\u001B[0m     msg \u001B[38;5;241m=\u001B[39m (\n\u001B[0;32m    122\u001B[0m         \u001B[38;5;124m\"\u001B[39m\u001B[38;5;124mThe indexing operation you are attempting to perform \u001B[39m\u001B[38;5;124m\"\u001B[39m\n\u001B[0;32m    123\u001B[0m         \u001B[38;5;124m\"\u001B[39m\u001B[38;5;124mis not valid on netCDF4.Variable object. Try loading \u001B[39m\u001B[38;5;124m\"\u001B[39m\n\u001B[0;32m    124\u001B[0m         \u001B[38;5;124m\"\u001B[39m\u001B[38;5;124myour data into memory first by calling .load().\u001B[39m\u001B[38;5;124m\"\u001B[39m\n\u001B[0;32m    125\u001B[0m     )\n",
      "\u001B[1;31mKeyboardInterrupt\u001B[0m: "
     ]
    }
   ],
   "execution_count": 16
  }
 ],
 "metadata": {
  "kernelspec": {
   "display_name": "Python 3",
   "language": "python",
   "name": "python3"
  },
  "language_info": {
   "codemirror_mode": {
    "name": "ipython",
    "version": 2
   },
   "file_extension": ".py",
   "mimetype": "text/x-python",
   "name": "python",
   "nbconvert_exporter": "python",
   "pygments_lexer": "ipython2",
   "version": "2.7.6"
  }
 },
 "nbformat": 4,
 "nbformat_minor": 5
}
